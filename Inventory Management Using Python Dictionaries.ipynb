{
 "cells": [
  {
   "cell_type": "markdown",
   "id": "e47f341b",
   "metadata": {},
   "source": [
    "# Inventory Management"
   ]
  },
  {
   "cell_type": "markdown",
   "id": "a6e9aa8f",
   "metadata": {},
   "source": [
    "### Items"
   ]
  },
  {
   "cell_type": "code",
   "execution_count": 2,
   "id": "099c61b5",
   "metadata": {},
   "outputs": [],
   "source": [
    "#dictionary -> {product id : { items Details }}\n",
    "\n",
    "Inventory_products = {\n",
    "15001:\n",
    " {'Name':'Dove Soap','Quantity':5,'Unit':'gm','Price':352,'Location':'Row-2 Slot-1'},  \n",
    "    \n",
    "15002:\n",
    " {'Name':'Mangoes','Quantity':150,'Unit':'Kg','Price':150,'Location':'Row-3 Slot-5'},\n",
    "    \n",
    "15003:\n",
    " {'Name':'Toothpaste','Quantity':19,'Unit':'gm','Price':25,'Location':'Row-2 Slot-2'},  \n",
    "    \n",
    "15004:\n",
    " {'Name':'Kit Kat','Quantity':10,'Unit':'gm','Price':352,'Location':'Row-1 Slot-2'},  \n",
    "    \n",
    "15005:\n",
    " {'Name':'Maggie','Quantity':21,'Unit':'gm','Price':20,'Location':'Row-1 Slot-4'},  \n",
    "    \n",
    "15006:\n",
    " {'Name':'Moong Dal','Quantity':15,'Unit':'gm','Price':10,'Location':'Row-1 Slot-3'}}"
   ]
  },
  {
   "cell_type": "markdown",
   "id": "d1ba2e72",
   "metadata": {},
   "source": [
    "### Displaying items"
   ]
  },
  {
   "cell_type": "code",
   "execution_count": 2,
   "id": "a64a34fb",
   "metadata": {},
   "outputs": [],
   "source": [
    "def productDetails():\n",
    "    name = input('Enter the product name : ')\n",
    "    for key in Inventory_products.keys():\n",
    "        if Inventory_products[key]['Name'] == name : \n",
    "            print('-'*25)\n",
    "            print('Product ID :',key)\n",
    "            print('-'*25)\n",
    "            print('Product Name :',Inventory_products[key]['Name'])\n",
    "            print('Product Quantity :',Inventory_products[key]['Quantity'])\n",
    "            print(\"Product's Unit :\",Inventory_products[key]['Unit'])\n",
    "            print('Price :',Inventory_products[key]['Price'])\n",
    "            print('Location :',Inventory_products[key]['Location'])\n",
    "            print('-'*25)\n",
    "\n",
    "            "
   ]
  },
  {
   "cell_type": "markdown",
   "id": "2e1deeaa",
   "metadata": {},
   "source": [
    "### Adding items"
   ]
  },
  {
   "cell_type": "code",
   "execution_count": 3,
   "id": "714d9f44",
   "metadata": {},
   "outputs": [],
   "source": [
    "def addProduct():\n",
    "    product_id = int(input('Enter the product id : '))\n",
    "    new_invent = {}\n",
    "    pd_name = input(\"Enter the product's name : \")\n",
    "    new_invent['Name'] = pd_name \n",
    "    pd_quantity = int(input(\"Enter the product's Quatity :\" ))\n",
    "    new_invent['Quantity'] = pd_quantity\n",
    "    pd_unit = input(\"Enter the product's Unit : \")\n",
    "    new_invent['Unit'] = pd_unit\n",
    "    pd_price = int(input(\"Enter the product's price : \"))\n",
    "    new_invent['Price'] = pd_price\n",
    "    pd_loc = input(\"Enter the product's Location : \")\n",
    "    new_invent['Location'] = pd_loc \n",
    "    Inventory_products[product_id] = new_invent\n",
    "    print()\n",
    "    print(product_id,':',Inventory_products[product_id],'\\n--  Product Added  --\\n')\n",
    "    print()\n",
    "    "
   ]
  },
  {
   "cell_type": "markdown",
   "id": "91dee8bc",
   "metadata": {},
   "source": [
    "### Deleting items"
   ]
  },
  {
   "cell_type": "code",
   "execution_count": 4,
   "id": "2425846a",
   "metadata": {},
   "outputs": [],
   "source": [
    "def deleteProduct():\n",
    "    pd_id = int(input('Enter the product id : '))\n",
    "    for key in Inventory_products.keys():\n",
    "        if Inventory_products[key] == pd_id :\n",
    "            pop(Inventory_products[key][item])\n",
    "    print('\\n--Item is Delted\\n')"
   ]
  },
  {
   "cell_type": "markdown",
   "id": "82611722",
   "metadata": {},
   "source": [
    "### Menu"
   ]
  },
  {
   "cell_type": "code",
   "execution_count": 5,
   "id": "ee6f80a7",
   "metadata": {},
   "outputs": [
    {
     "name": "stdout",
     "output_type": "stream",
     "text": [
      "-------Grocery Items-------\n",
      "ID  Name  Quantity  Unit  Price  Location\n",
      "\n",
      "15001   Dove Soap   5  gm   352   Row-2 Slot-1 \n",
      "15002   Mangoes   150  Kg   150   Row-3 Slot-5 \n",
      "15003   Toothpaste   19  gm   25   Row-2 Slot-2 \n",
      "15004   Kit Kat   10  gm   352   Row-1 Slot-2 \n",
      "15005   Maggie   21  gm   20   Row-1 Slot-4 \n",
      "15006   Moong Dal   15  gm   10   Row-1 Slot-3 \n",
      "-------------------------\n",
      "\n",
      "-------Grocery Menu-------\n",
      "1. Display Item\n",
      "2. Add Item\n",
      "3. Delete Item\n",
      "4. Exit\n",
      "\n",
      "- Enter your choice - 1\n",
      "Enter the product name : Dove Soap\n",
      "-------------------------\n",
      "Product ID : 15001\n",
      "-------------------------\n",
      "Product Name : Dove Soap\n",
      "Product Quantity : 5\n",
      "Product's Unit : gm\n",
      "Price : 352\n",
      "Location : Row-2 Slot-1\n",
      "-------------------------\n",
      "-------Grocery Menu-------\n",
      "1. Display Item\n",
      "2. Add Item\n",
      "3. Delete Item\n",
      "4. Exit\n",
      "\n",
      "- Enter your choice - 2\n",
      "Enter the product id : 15005\n",
      "Enter the product's name : Marie gold\n",
      "Enter the product's Quatity :5\n",
      "Enter the product's Unit : gm\n",
      "Enter the product's price : 5\n",
      "Enter the product's Location : Row-8 Slot-1\n",
      "\n",
      "15005 : {'Name': 'Marie gold', 'Quantity': 5, 'Unit': 'gm', 'Price': 5, 'Location': 'Row-8 Slot-1'} \n",
      "--  Product Added  --\n",
      "\n",
      "\n",
      "-------Grocery Menu-------\n",
      "1. Display Item\n",
      "2. Add Item\n",
      "3. Delete Item\n",
      "4. Exit\n",
      "\n",
      "- Enter your choice - 3\n",
      "Enter the product id : 15002\n",
      "\n",
      "--Item is Delted\n",
      "\n",
      "-------Grocery Menu-------\n",
      "1. Display Item\n",
      "2. Add Item\n",
      "3. Delete Item\n",
      "4. Exit\n",
      "\n",
      "- Enter your choice - 4\n",
      "\n",
      "--Exited--\n"
     ]
    }
   ],
   "source": [
    " print('-------Grocery Items-------')\n",
    "print('ID  Name  Quantity  Unit  Price  Location\\n')\n",
    "for key in Inventory_products.keys():\n",
    "    print(key,end=' ')\n",
    "    print(' ',Inventory_products[key]['Name'],end=' ')\n",
    "    print(' ',Inventory_products[key]['Quantity'],end='')\n",
    "    print(' ',Inventory_products[key]['Unit'],end=' ')\n",
    "    print(' ',Inventory_products[key]['Price'],end=' ')\n",
    "    print(' ',Inventory_products[key]['Location'],end=' ')\n",
    "    print()\n",
    "print('-'*25)\n",
    "print()\n",
    "while 1 :\n",
    "    print('-------Grocery Menu-------')\n",
    "    print('1. Display Item')\n",
    "    print('2. Add Item')\n",
    "    print('3. Delete Item')\n",
    "    print('4. Exit')\n",
    "    n = int(input('\\n- Enter your choice - '))\n",
    "    if n == 1:\n",
    "        productDetails()\n",
    "    elif n == 2 :\n",
    "        addProduct()\n",
    "    elif n == 3 :\n",
    "        deleteProduct()\n",
    "    elif n == 4:  \n",
    "        print('\\n--Exited--')\n",
    "        break\n",
    "    else:\n",
    "        print('Invalid Choice')"
   ]
  },
  {
   "cell_type": "markdown",
   "id": "6910f5b5",
   "metadata": {},
   "source": [
    "# Output"
   ]
  },
  {
   "cell_type": "markdown",
   "id": "f3b1b7cd",
   "metadata": {},
   "source": [
    "### Menu Interface"
   ]
  },
  {
   "cell_type": "raw",
   "id": "fc93e8c9",
   "metadata": {},
   "source": [
    "-------Grocery Items-------\n",
    "ID  Name  Quantity  Unit  Price  Location\n",
    "\n",
    "15001   Dove Soap   5    gm   352   Row-2 Slot-1 \n",
    "15002   Mangoes     150  Kg   150   Row-3 Slot-5 \n",
    "15003   Toothpaste  19   gm   25    Row-2 Slot-2 \n",
    "15004   Kit Kat     10   gm   352   Row-1 Slot-2 \n",
    "15005   Maggie      21   gm   20    Row-1 Slot-4 \n",
    "15006   Moong Dal   15   gm   10    Row-1 Slot-3 \n",
    "-------------------------\n",
    "\n",
    "-------Grocery Menu-------\n",
    "1. Display Item\n",
    "2. Add Item\n",
    "3. Delete Item\n",
    "4. Exit"
   ]
  },
  {
   "cell_type": "markdown",
   "id": "c0117797",
   "metadata": {},
   "source": [
    "### 1. Display the item"
   ]
  },
  {
   "cell_type": "raw",
   "id": "b0a8acb7",
   "metadata": {},
   "source": [
    "- Enter your choice - 1\n",
    "Enter the product name : Dove Soap\n",
    "-------------------------\n",
    "Product ID : 15001\n",
    "-------------------------\n",
    "Product Name : Dove Soap\n",
    "Product Quantity : 5\n",
    "Product's Unit : gm\n",
    "Price : 352\n",
    "Location : Row-2 Slot-1\n",
    "-------------------------\n"
   ]
  },
  {
   "cell_type": "markdown",
   "id": "78164c40",
   "metadata": {},
   "source": [
    "### 2. Adding the item"
   ]
  },
  {
   "cell_type": "raw",
   "id": "cbfd2601",
   "metadata": {},
   "source": [
    "- Enter your choice - 2\n",
    "Enter the product id : 15005\n",
    "Enter the product's name : Marie gold\n",
    "Enter the product's Quatity :5\n",
    "Enter the product's Unit : gm\n",
    "Enter the product's price : 5\n",
    "Enter the product's Location : Row-8 Slot-1\n",
    "\n",
    "15005 : {'Name': 'Marie gold', 'Quantity': 5, 'Unit': 'gm', 'Price': 5, 'Location': 'Row-8 Slot-1'} \n",
    "--  Product Added  --"
   ]
  },
  {
   "cell_type": "markdown",
   "id": "5f0c3b53",
   "metadata": {},
   "source": [
    "### 3. Deleting the item"
   ]
  },
  {
   "cell_type": "raw",
   "id": "71cede8b",
   "metadata": {},
   "source": [
    "- Enter your choice - 3\n",
    "\n",
    "Enter the product id : 15002\n",
    "\n",
    "Item is Delted"
   ]
  },
  {
   "cell_type": "markdown",
   "id": "4f01bdfe",
   "metadata": {},
   "source": [
    "### 4. Exit"
   ]
  },
  {
   "cell_type": "raw",
   "id": "f4c4a763",
   "metadata": {},
   "source": [
    "-------Grocery Menu-------\n",
    "1. Display Item\n",
    "2. Add Item\n",
    "3. Delete Item\n",
    "4. Exit\n",
    "\n",
    "- Enter your choice - 4\n",
    "\n",
    "--Exited--"
   ]
  },
  {
   "cell_type": "markdown",
   "id": "4b527bd0",
   "metadata": {},
   "source": [
    "### End"
   ]
  }
 ],
 "metadata": {
  "kernelspec": {
   "display_name": "Python 3 (ipykernel)",
   "language": "python",
   "name": "python3"
  },
  "language_info": {
   "codemirror_mode": {
    "name": "ipython",
    "version": 3
   },
   "file_extension": ".py",
   "mimetype": "text/x-python",
   "name": "python",
   "nbconvert_exporter": "python",
   "pygments_lexer": "ipython3",
   "version": "3.10.9"
  }
 },
 "nbformat": 4,
 "nbformat_minor": 5
}
